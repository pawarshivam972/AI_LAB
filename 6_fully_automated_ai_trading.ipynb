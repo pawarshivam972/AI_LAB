{
 "cells": [
  {
   "cell_type": "code",
   "execution_count": null,
   "id": "3e0589a2",
   "metadata": {
    "id": "3e0589a2"
   },
   "outputs": [],
   "source": [
    "import numpy as np\n",
    "import pandas as pd\n",
    "import matplotlib.pyplot as plt\n",
    "import yfinance as yf\n",
    "google = yf.Ticker(\"GOOG\")"
   ]
  },
  {
   "cell_type": "code",
   "execution_count": null,
   "id": "278a0e01",
   "metadata": {
    "id": "278a0e01",
    "outputId": "193d72ba-1310-41ac-8c75-e7a90738d132"
   },
   "outputs": [
    {
     "name": "stdout",
     "output_type": "stream",
     "text": [
      "                                 Open        High         Low       Close  \\\n",
      "Datetime                                                                    \n",
      "2023-05-11 09:30:00-04:00  115.860001  116.320000  115.059998  115.548500   \n",
      "2023-05-11 09:31:00-04:00  115.559998  115.970001  115.510002  115.800003   \n",
      "2023-05-11 09:32:00-04:00  115.790001  115.809998  115.349998  115.739998   \n",
      "2023-05-11 09:33:00-04:00  115.739998  115.955002  115.160004  115.180000   \n",
      "2023-05-11 09:34:00-04:00  115.169998  115.620003  114.930099  115.609802   \n",
      "\n",
      "                            Volume  Dividends  Stock Splits  \n",
      "Datetime                                                     \n",
      "2023-05-11 09:30:00-04:00  3565730        0.0           0.0  \n",
      "2023-05-11 09:31:00-04:00   509163        0.0           0.0  \n",
      "2023-05-11 09:32:00-04:00   480305        0.0           0.0  \n",
      "2023-05-11 09:33:00-04:00   687273        0.0           0.0  \n",
      "2023-05-11 09:34:00-04:00   694665        0.0           0.0  \n"
     ]
    }
   ],
   "source": [
    "df = google.history(period='1d', interval=\"1m\")\n",
    "print(df.head())"
   ]
  },
  {
   "cell_type": "code",
   "execution_count": null,
   "id": "a3580154",
   "metadata": {
    "id": "a3580154",
    "outputId": "e3f15fce-6261-4a4a-a05e-2f7116fa15af"
   },
   "outputs": [
    {
     "data": {
      "text/html": [
       "<div>\n",
       "<style scoped>\n",
       "    .dataframe tbody tr th:only-of-type {\n",
       "        vertical-align: middle;\n",
       "    }\n",
       "\n",
       "    .dataframe tbody tr th {\n",
       "        vertical-align: top;\n",
       "    }\n",
       "\n",
       "    .dataframe thead th {\n",
       "        text-align: right;\n",
       "    }\n",
       "</style>\n",
       "<table border=\"1\" class=\"dataframe\">\n",
       "  <thead>\n",
       "    <tr style=\"text-align: right;\">\n",
       "      <th></th>\n",
       "      <th>Low</th>\n",
       "    </tr>\n",
       "    <tr>\n",
       "      <th>Datetime</th>\n",
       "      <th></th>\n",
       "    </tr>\n",
       "  </thead>\n",
       "  <tbody>\n",
       "    <tr>\n",
       "      <th>2023-05-11 09:30:00-04:00</th>\n",
       "      <td>115.059998</td>\n",
       "    </tr>\n",
       "    <tr>\n",
       "      <th>2023-05-11 09:31:00-04:00</th>\n",
       "      <td>115.510002</td>\n",
       "    </tr>\n",
       "    <tr>\n",
       "      <th>2023-05-11 09:32:00-04:00</th>\n",
       "      <td>115.349998</td>\n",
       "    </tr>\n",
       "    <tr>\n",
       "      <th>2023-05-11 09:33:00-04:00</th>\n",
       "      <td>115.160004</td>\n",
       "    </tr>\n",
       "    <tr>\n",
       "      <th>2023-05-11 09:34:00-04:00</th>\n",
       "      <td>114.930099</td>\n",
       "    </tr>\n",
       "  </tbody>\n",
       "</table>\n",
       "</div>"
      ],
      "text/plain": [
       "                                  Low\n",
       "Datetime                             \n",
       "2023-05-11 09:30:00-04:00  115.059998\n",
       "2023-05-11 09:31:00-04:00  115.510002\n",
       "2023-05-11 09:32:00-04:00  115.349998\n",
       "2023-05-11 09:33:00-04:00  115.160004\n",
       "2023-05-11 09:34:00-04:00  114.930099"
      ]
     },
     "execution_count": 4,
     "metadata": {},
     "output_type": "execute_result"
    }
   ],
   "source": [
    "df = google.history(period='1d', interval=\"1m\")\n",
    "df = df[['Low']]\n",
    "df.head()"
   ]
  },
  {
   "cell_type": "code",
   "execution_count": null,
   "id": "6b2facd6",
   "metadata": {
    "id": "6b2facd6",
    "outputId": "dad4f030-fbba-4e9b-eaff-c7c95a2f6968"
   },
   "outputs": [
    {
     "data": {
      "text/html": [
       "<div>\n",
       "<style scoped>\n",
       "    .dataframe tbody tr th:only-of-type {\n",
       "        vertical-align: middle;\n",
       "    }\n",
       "\n",
       "    .dataframe tbody tr th {\n",
       "        vertical-align: top;\n",
       "    }\n",
       "\n",
       "    .dataframe thead th {\n",
       "        text-align: right;\n",
       "    }\n",
       "</style>\n",
       "<table border=\"1\" class=\"dataframe\">\n",
       "  <thead>\n",
       "    <tr style=\"text-align: right;\">\n",
       "      <th></th>\n",
       "      <th>Low</th>\n",
       "    </tr>\n",
       "    <tr>\n",
       "      <th>date</th>\n",
       "      <th></th>\n",
       "    </tr>\n",
       "  </thead>\n",
       "  <tbody>\n",
       "    <tr>\n",
       "      <th>09:30:00</th>\n",
       "      <td>115.059998</td>\n",
       "    </tr>\n",
       "    <tr>\n",
       "      <th>09:31:00</th>\n",
       "      <td>115.510002</td>\n",
       "    </tr>\n",
       "    <tr>\n",
       "      <th>09:32:00</th>\n",
       "      <td>115.349998</td>\n",
       "    </tr>\n",
       "    <tr>\n",
       "      <th>09:33:00</th>\n",
       "      <td>115.160004</td>\n",
       "    </tr>\n",
       "    <tr>\n",
       "      <th>09:34:00</th>\n",
       "      <td>114.930099</td>\n",
       "    </tr>\n",
       "  </tbody>\n",
       "</table>\n",
       "</div>"
      ],
      "text/plain": [
       "                 Low\n",
       "date                \n",
       "09:30:00  115.059998\n",
       "09:31:00  115.510002\n",
       "09:32:00  115.349998\n",
       "09:33:00  115.160004\n",
       "09:34:00  114.930099"
      ]
     },
     "execution_count": 5,
     "metadata": {},
     "output_type": "execute_result"
    }
   ],
   "source": [
    "df['date'] = pd.to_datetime(df.index).time\n",
    "df.set_index('date', inplace=True)\n",
    "df.head()"
   ]
  },
  {
   "cell_type": "code",
   "execution_count": null,
   "id": "285d600a",
   "metadata": {
    "id": "285d600a"
   },
   "outputs": [],
   "source": [
    "X = df.index.values\n",
    "y = df['Low'].values\n",
    "# The split point is the 10% of the dataframe length\n",
    "offset = int(0.10*len(df))\n",
    "X_train = X[:-offset]\n",
    "y_train = y[:-offset]\n",
    "X_test  = X[-offset:]\n",
    "y_test  = y[-offset:]"
   ]
  },
  {
   "cell_type": "code",
   "execution_count": null,
   "id": "f1e32f90",
   "metadata": {
    "id": "f1e32f90",
    "outputId": "2074689e-17a4-41a4-bc89-299f3ffc9981"
   },
   "outputs": [
    {
     "data": {
      "image/png": "[encoded data removed]",
      "text/plain": [
       "<Figure size 640x480 with 1 Axes>"
      ]
     },
     "metadata": {},
     "output_type": "display_data"
    }
   ],
   "source": [
    "plt.plot(range(0,len(y_train)),y_train, label='Train')\n",
    "plt.plot(range(len(y_train),len(y)),y_test,label='Test')\n",
    "plt.legend()\n",
    "plt.show()"
   ]
  },
  {
   "cell_type": "code",
   "execution_count": null,
   "id": "fdf4bd6a",
   "metadata": {
    "id": "fdf4bd6a"
   },
   "outputs": [],
   "source": [
    "import warnings\n",
    "from sklearn.exceptions import ConvergenceWarning\n",
    "from sklearn.linear_model import LogisticRegression\n",
    "\n",
    "X, y = load_data()\n",
    "model = LogisticRegression()\n",
    "\n",
    "with warnings.catch_warnings():\n",
    "    warnings.filterwarnings(\"error\", category=ConvergenceWarning)\n",
    "    try:\n",
    "        model.fit(X, y)\n",
    "    except ConvergenceWarning:\n",
    "        print(\"ConvergenceWarning: Maximum number of iterations exceeded\")\n",
    "\n",
    "score = model.score(X, y)\n",
    "print(\"Model score:\", score)"
   ]
  },
  {
   "cell_type": "code",
   "execution_count": null,
   "id": "39b5c561",
   "metadata": {
    "id": "39b5c561",
    "outputId": "269b3feb-4b3e-4530-c508-7abc503309a0"
   },
   "outputs": [
    {
     "name": "stdout",
     "output_type": "stream",
     "text": [
      "Real data for time 0: 117.48999786376953\n",
      "Real data for time 1: 117.51499938964844\n",
      "Pred data for time 1: 117.49398122861169\n"
     ]
    }
   ],
   "source": [
    "print(f'Real data for time 0: {y_train[len(y_train)-1]}')\n",
    "print(f'Real data for time 1: {y_test[0]}')\n",
    "print(f'Pred data for time 1: {forecast}')"
   ]
  }
 ],
 "metadata": {
  "colab": {
   "provenance": []
  },
  "kernelspec": {
   "display_name": "Python 3 (ipykernel)",
   "language": "python",
   "name": "python3"
  },
  "language_info": {
   "codemirror_mode": {
    "name": "ipython",
    "version": 3
   },
   "file_extension": ".py",
   "mimetype": "text/x-python",
   "name": "python",
   "nbconvert_exporter": "python",
   "pygments_lexer": "ipython3",
   "version": "3.10.5"
  }
 },
 "nbformat": 4,
 "nbformat_minor": 5
}
